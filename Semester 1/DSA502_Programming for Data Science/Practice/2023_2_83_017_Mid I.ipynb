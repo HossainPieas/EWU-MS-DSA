{
  "nbformat": 4,
  "nbformat_minor": 0,
  "metadata": {
    "colab": {
      "provenance": []
    },
    "kernelspec": {
      "name": "python3",
      "display_name": "Python 3"
    },
    "language_info": {
      "name": "python"
    }
  },
  "cells": [
    {
      "cell_type": "markdown",
      "source": [
        "**Mid 1**"
      ],
      "metadata": {
        "id": "yTeub_4mnCv-"
      }
    },
    {
      "cell_type": "markdown",
      "source": [
        "** Problem 1 **"
      ],
      "metadata": {
        "id": "Utg4HR9AnG9V"
      }
    },
    {
      "cell_type": "code",
      "execution_count": 29,
      "metadata": {
        "colab": {
          "base_uri": "https://localhost:8080/"
        },
        "id": "pj3Uo_hYm191",
        "outputId": "1b1598c2-af60-41d3-e485-905ff033c9fb"
      },
      "outputs": [
        {
          "output_type": "stream",
          "name": "stdout",
          "text": [
            "Input:\n",
            "\n",
            "Enter the number of departments: 2\n",
            "Enter details of Department 1: \n",
            "Department Name: Sales\n",
            "Enter the number of employees: 2\n",
            "Enter details for employee 1: \n",
            "Employee Number: 001\n",
            "Employee Name: Asif\n",
            "Basic Salary:5000\n",
            "\n",
            "Output: \n",
            "Employee Information: \n",
            "Department: Sales \n",
            "Employee Number: 1 \n",
            "Employee Name: Asif \n",
            "Basic Salary: 5000.0 \n",
            "Net Salary: 5320.0\n",
            "Enter details for employee 2: \n",
            "Employee Number: 002\n",
            "Employee Name: Pieas\n",
            "Basic Salary:4000\n",
            "\n",
            "Output: \n",
            "Employee Information: \n",
            "Department: Sales \n",
            "Employee Number: 2 \n",
            "Employee Name: Pieas \n",
            "Basic Salary: 4000.0 \n",
            "Net Salary: 4256.0\n",
            "Enter details of Department 2: \n",
            "Department Name: Marketing\n",
            "Enter the number of employees: 2\n",
            "Enter details for employee 1: \n",
            "Employee Number: 003\n",
            "Employee Name: Hasib\n",
            "Basic Salary:7000\n",
            "\n",
            "Output: \n",
            "Employee Information: \n",
            "Department: Marketing \n",
            "Employee Number: 3 \n",
            "Employee Name: Hasib \n",
            "Basic Salary: 7000.0 \n",
            "Net Salary: 7448.0\n",
            "Enter details for employee 2: \n",
            "Employee Number: 004\n",
            "Employee Name: Pieas\n",
            "Basic Salary:6000\n",
            "\n",
            "Output: \n",
            "Employee Information: \n",
            "Department: Marketing \n",
            "Employee Number: 4 \n",
            "Employee Name: Pieas \n",
            "Basic Salary: 6000.0 \n",
            "Net Salary: 6384.0\n"
          ]
        }
      ],
      "source": [
        "print(\"Input:\\n\")\n",
        "dept_no=int(input(\"Enter the number of departments: \"))\n",
        "list_dep=range(0,dept_no)\n",
        "for dep in list_dep:\n",
        "  print(f\"Enter details of Department {dep+1}: \")\n",
        "  dept_name=input(\"Department Name: \")\n",
        "  employ=int(input(\"Enter the number of employees: \"))\n",
        "  list_emp=range(0,employ)\n",
        "  for emp in list_emp:\n",
        "    print(f\"Enter details for employee {emp+1}: \")\n",
        "    employ_num=int(input(\"Employee Number: \"))\n",
        "    employ_name=input(\"Employee Name: \")\n",
        "    sal=float(input(\"Basic Salary:\"))\n",
        "    net_sal=sal+0.52*sal-0.3*(0.52*sal+sal)\n",
        "    print(f\"\\nOutput: \\nEmployee Information: \\nDepartment: {dept_name} \\nEmployee Number: {employ_num} \\nEmployee Name: {employ_name} \\nBasic Salary: {sal} \\nNet Salary: {net_sal}\")"
      ]
    },
    {
      "cell_type": "markdown",
      "source": [
        "** Problem 2 **"
      ],
      "metadata": {
        "id": "s86OhtKJnQGd"
      }
    },
    {
      "cell_type": "code",
      "source": [
        "ini_bal=float(input(\"Enter Initial Balance: \"))\n",
        "no_dep=int(input(\"Enter the number of deposits: \"))\n",
        "no_with=int(input(\"Enter the number of withdrawals: \"))\n",
        "new_bal=ini_bal\n",
        "for txn in range(0,no_dep):\n",
        "  dep_amt=float(input(f\"Enter the deposit amount for Deposit {txn+1}: \"))\n",
        "  new_bal=new_bal+dep_amt\n",
        "for txn in range(0,no_with):\n",
        "  with_amt=float(input(f\"Enter the withdrawal amount for Withdrawal {txn+1}: \"))\n",
        "  if new_bal>=with_amt:\n",
        "    new_bal=new_bal-with_amt\n",
        "  else:\n",
        "    print(f\"You cannot withdraw {with_amt} as your balance is only {new_bal}. Please try again.\")\n",
        "print(f\"Output:\\nFinal Balance: {new_bal}\")"
      ],
      "metadata": {
        "colab": {
          "base_uri": "https://localhost:8080/"
        },
        "id": "VTer_Ku7pD18",
        "outputId": "60b97384-dea1-46fc-93d6-21ae997a3659"
      },
      "execution_count": 32,
      "outputs": [
        {
          "output_type": "stream",
          "name": "stdout",
          "text": [
            "Enter Initial Balance: 500\n",
            "Enter the number of deposits: 2\n",
            "Enter the number of withdrawals: 1\n",
            "Enter the deposit amount for Deposit 1: 100\n",
            "Enter the deposit amount for Deposit 2: 200\n",
            "Enter the withdrawal amount for Withdrawal 1: 5000\n",
            "You cannot withdraw 5000.0 as your balance is only 800.0. Please try again.\n",
            "Output:\n",
            "Final Balance: 800.0\n"
          ]
        }
      ]
    }
  ]
}