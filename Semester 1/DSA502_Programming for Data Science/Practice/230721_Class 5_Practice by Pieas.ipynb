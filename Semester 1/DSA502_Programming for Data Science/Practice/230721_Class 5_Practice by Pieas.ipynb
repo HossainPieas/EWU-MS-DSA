{
 "cells": [
  {
   "cell_type": "code",
   "execution_count": 1,
   "metadata": {},
   "outputs": [
    {
     "name": "stdout",
     "output_type": "stream",
     "text": [
      "['1', '2']\n"
     ]
    }
   ],
   "source": [
    "student_mark=[]\n",
    "student_num=int(input(\"Enter Number of Students Please\"))\n",
    "for i in range(student_num):\n",
    "    mark=input(f\"Enter student {i+1} mark: \")\n",
    "    student_mark.append(mark)\n",
    "print(student_mark)"
   ]
  }
 ],
 "metadata": {
  "kernelspec": {
   "display_name": "Python 3 (ipykernel)",
   "language": "python",
   "name": "python3"
  },
  "language_info": {
   "codemirror_mode": {
    "name": "ipython",
    "version": 3
   },
   "file_extension": ".py",
   "mimetype": "text/x-python",
   "name": "python",
   "nbconvert_exporter": "python",
   "pygments_lexer": "ipython3",
   "version": "3.10.8"
  },
  "orig_nbformat": 4
 },
 "nbformat": 4,
 "nbformat_minor": 2
}
