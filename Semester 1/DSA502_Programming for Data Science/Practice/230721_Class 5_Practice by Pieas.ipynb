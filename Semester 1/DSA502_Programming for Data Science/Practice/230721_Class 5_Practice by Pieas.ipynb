{
  "cells": [
    {
      "cell_type": "code",
      "execution_count": null,
      "metadata": {
        "id": "2P8AJXH-71it",
        "outputId": "a1c15800-4073-49de-faaf-286791bed889"
      },
      "outputs": [
        {
          "name": "stdout",
          "output_type": "stream",
          "text": [
            "['1', '2']\n"
          ]
        }
      ],
      "source": [
        "student_mark=[]\n",
        "student_num=int(input(\"Enter Number of Students Please\"))\n",
        "for i in range(student_num):\n",
        "    mark=input(f\"Enter student {i+1} mark: \")\n",
        "    student_mark.append(mark)\n",
        "print(student_mark)"
      ]
    },
    {
      "cell_type": "code",
      "source": [
        "student_num=3\n",
        "student_id=[1,2,3]\n",
        "student_name=[\"Asif\", \"Komoal\", \"Pieas\"]\n",
        "student_mark=[45,25,55]\n",
        "\n",
        "for num in range(student_num):\n",
        "  print(f\"Student {num+1} id: {student_id[num]}\")\n",
        "  print(f\"Student {num+1} name: {student_name[num]}\")\n",
        "  print(f\"Student {num+1} marks: {student_mark[num]}\")"
      ],
      "metadata": {
        "id": "CbUCau7a75iV",
        "outputId": "bd5285d1-de15-4242-bf94-2751abb5cf80",
        "colab": {
          "base_uri": "https://localhost:8080/"
        }
      },
      "execution_count": 3,
      "outputs": [
        {
          "output_type": "stream",
          "name": "stdout",
          "text": [
            "Student 1 id: 1\n",
            "Student 1 name: Asif\n",
            "Student 1 marks: 45\n",
            "Student 2 id: 2\n",
            "Student 2 name: Komoal\n",
            "Student 2 marks: 25\n",
            "Student 3 id: 3\n",
            "Student 3 name: Pieas\n",
            "Student 3 marks: 55\n"
          ]
        }
      ]
    }
  ],
  "metadata": {
    "kernelspec": {
      "display_name": "Python 3 (ipykernel)",
      "language": "python",
      "name": "python3"
    },
    "language_info": {
      "codemirror_mode": {
        "name": "ipython",
        "version": 3
      },
      "file_extension": ".py",
      "mimetype": "text/x-python",
      "name": "python",
      "nbconvert_exporter": "python",
      "pygments_lexer": "ipython3",
      "version": "3.10.8"
    },
    "orig_nbformat": 4,
    "colab": {
      "provenance": []
    }
  },
  "nbformat": 4,
  "nbformat_minor": 0
}