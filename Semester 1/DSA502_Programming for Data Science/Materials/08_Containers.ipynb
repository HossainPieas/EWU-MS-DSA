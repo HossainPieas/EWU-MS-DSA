{
  "nbformat": 4,
  "nbformat_minor": 0,
  "metadata": {
    "colab": {
      "provenance": []
    },
    "kernelspec": {
      "name": "python3",
      "display_name": "Python 3"
    },
    "language_info": {
      "name": "python"
    }
  },
  "cells": [
    {
      "cell_type": "markdown",
      "source": [
        "# List"
      ],
      "metadata": {
        "id": "JDdgqaz-tBWF"
      }
    },
    {
      "cell_type": "code",
      "execution_count": null,
      "metadata": {
        "colab": {
          "base_uri": "https://localhost:8080/"
        },
        "id": "0Yo6EMoXrYar",
        "outputId": "f96ee3a2-58c4-4599-8193-43d756c23e3b"
      },
      "outputs": [
        {
          "output_type": "stream",
          "name": "stdout",
          "text": [
            "[0, 1, 2, 3, 4]\n"
          ]
        }
      ],
      "source": [
        "student = []\n",
        "for i in range(5):\n",
        "  student.append(i)\n",
        "\n",
        "print(student)"
      ]
    },
    {
      "cell_type": "code",
      "source": [
        "for element in student:\n",
        "  print(element)"
      ],
      "metadata": {
        "colab": {
          "base_uri": "https://localhost:8080/"
        },
        "id": "kH7a7b6htKcF",
        "outputId": "ef8b220f-3e3f-4393-d38a-702de0fa520e"
      },
      "execution_count": null,
      "outputs": [
        {
          "output_type": "stream",
          "name": "stdout",
          "text": [
            "0\n",
            "1\n",
            "2\n",
            "3\n",
            "4\n"
          ]
        }
      ]
    },
    {
      "cell_type": "code",
      "source": [
        "# for input n number of student marks\n",
        "student_mark = []\n",
        "student_num =int(input(\"Enter number of students:\"))\n",
        "for i in range(student_num):\n",
        "  mark=input(f\"Enter student {i+1} mark:\")\n",
        "\n",
        "  student_mark.append(float(mark))\n",
        "\n"
      ],
      "metadata": {
        "colab": {
          "base_uri": "https://localhost:8080/"
        },
        "id": "P3YMtliKtVML",
        "outputId": "5bec3ef2-571d-4a05-9c96-07ce6d76059a"
      },
      "execution_count": null,
      "outputs": [
        {
          "name": "stdout",
          "output_type": "stream",
          "text": [
            "Enter number of students:3\n",
            "Enter student 1 mark:95.5\n",
            "Enter student 2 mark:55.5\n",
            "Enter student 3 mark:85.5\n"
          ]
        }
      ]
    },
    {
      "cell_type": "code",
      "source": [
        "# show n number of student marks\n",
        "print(student_mark)\n",
        "for mark in student_mark:\n",
        "  print(mark)"
      ],
      "metadata": {
        "colab": {
          "base_uri": "https://localhost:8080/"
        },
        "id": "pND4qEpsvoL8",
        "outputId": "73d85c4f-d3f2-45a1-8ec0-3769765b8b9c"
      },
      "execution_count": null,
      "outputs": [
        {
          "output_type": "stream",
          "name": "stdout",
          "text": [
            "[95.5, 55.5, 85.5]\n",
            "95.5\n",
            "55.5\n",
            "85.5\n"
          ]
        }
      ]
    },
    {
      "cell_type": "code",
      "source": [
        "# find the average of n number of student marks\n",
        "sum = 0\n",
        "for mark in student_mark:\n",
        "  sum = sum + mark\n",
        "\n",
        "average = sum /student_num\n",
        "\n",
        "print(f\"Average of {student_num} of students is {round(average,2)}\")"
      ],
      "metadata": {
        "colab": {
          "base_uri": "https://localhost:8080/"
        },
        "id": "mxHRT32Dv7k6",
        "outputId": "59e1b31c-8a17-45c2-b386-ad4d3cfb9dfa"
      },
      "execution_count": null,
      "outputs": [
        {
          "output_type": "stream",
          "name": "stdout",
          "text": [
            "Average of 3 of students is 78.83\n"
          ]
        }
      ]
    },
    {
      "cell_type": "code",
      "source": [
        "# Enter n number of\n",
        "# student id, name and mark for course1\n",
        "student_id = []\n",
        "student_name = []\n",
        "student_mark = []\n",
        "student_num = int(input(\"Enter number of student:\"))\n",
        "for num in range(student_num):\n",
        "  std_id = input(f\"Enter Student {num+1} id:\")\n",
        "  std_name = input(f\"Enter Student {num+1} name:\")\n",
        "  std_mark = float(input(f\"Enter Student {num+1} mark:\"))\n",
        "  student_id.append(std_id)\n",
        "  student_name.append(std_name)\n",
        "  student_mark.append(std_mark)"
      ],
      "metadata": {
        "colab": {
          "base_uri": "https://localhost:8080/"
        },
        "id": "sbxgJC-UzwKz",
        "outputId": "47a63faf-bc86-4191-d958-cc45dd45b8c6"
      },
      "execution_count": null,
      "outputs": [
        {
          "name": "stdout",
          "output_type": "stream",
          "text": [
            "Enter number of student:4\n",
            "Enter Student 1 id:123\n",
            "Enter Student 1 name:name1\n",
            "Enter Student 1 mark:55.5\n",
            "Enter Student 2 id:345\n",
            "Enter Student 2 name:name2\n",
            "Enter Student 2 mark:95.5\n",
            "Enter Student 3 id:789\n",
            "Enter Student 3 name:name3\n",
            "Enter Student 3 mark:65.5\n",
            "Enter Student 4 id:963\n",
            "Enter Student 4 name:name4\n",
            "Enter Student 4 mark:75.5\n"
          ]
        }
      ]
    },
    {
      "cell_type": "code",
      "source": [
        "student_id[:2]"
      ],
      "metadata": {
        "colab": {
          "base_uri": "https://localhost:8080/"
        },
        "id": "4X80w8hG4YkZ",
        "outputId": "c2f4355c-d32f-4a49-aeed-5009c8a45085"
      },
      "execution_count": null,
      "outputs": [
        {
          "output_type": "execute_result",
          "data": {
            "text/plain": [
              "['123', '345']"
            ]
          },
          "metadata": {},
          "execution_count": 25
        }
      ]
    },
    {
      "cell_type": "code",
      "source": [
        "for num in range(student_num):\n",
        "  print(f\"Student {num+1} id:{student_id[num]}\")\n",
        "  print(f\"Student {num+1} name:{student_name[num]}\")\n",
        "  print(f\"Student {num+1} marks:{student_mark[num]}\")"
      ],
      "metadata": {
        "colab": {
          "base_uri": "https://localhost:8080/"
        },
        "id": "NTPAQC6D3lpy",
        "outputId": "419e71a4-7d87-4922-f062-aac5373bca6c"
      },
      "execution_count": null,
      "outputs": [
        {
          "output_type": "stream",
          "name": "stdout",
          "text": [
            "Student 1 id:123\n",
            "Student 1 name:name1\n",
            "Student 1 marks:55.5\n",
            "Student 2 id:345\n",
            "Student 2 name:name2\n",
            "Student 2 marks:95.5\n",
            "Student 3 id:789\n",
            "Student 3 name:name3\n",
            "Student 3 marks:65.5\n",
            "Student 4 id:963\n",
            "Student 4 name:name4\n",
            "Student 4 marks:75.5\n"
          ]
        }
      ]
    },
    {
      "cell_type": "code",
      "source": [
        "# for n number of students\n",
        "num_students = int(input(\"Enter number of students:\"))\n",
        "avg_student_marks = []\n",
        "for i in range(num_students):\n",
        "  # input for n number of courses\n",
        "  num_courses = int(input(\"Enter number of courses:\"))\n",
        "  course_mark = []\n",
        "  for i in range(num_courses):\n",
        "    mark = float(input(f\"Enter {i+1} mark:\"))\n",
        "    course_mark.append(mark)\n",
        "  # calcuale average mark\n",
        "  total_mark = 0\n",
        "  for i in range(num_courses):\n",
        "    total_mark = total_mark + course_mark[i]\n",
        "\n",
        "  avg = total_mark/num_courses\n",
        "  avg_student_marks.append(avg)\n",
        "\n"
      ],
      "metadata": {
        "colab": {
          "base_uri": "https://localhost:8080/"
        },
        "id": "_DUl3JuU5IC5",
        "outputId": "251efd02-b64b-40ca-ad2e-2b157e72f98f"
      },
      "execution_count": null,
      "outputs": [
        {
          "output_type": "stream",
          "name": "stdout",
          "text": [
            "Enter number of students:2\n",
            "Enter number of courses:2\n",
            "Enter 1 mark:95.5\n",
            "Enter 2 mark:85.5\n",
            "Enter number of courses:2\n",
            "Enter 1 mark:75.5\n",
            "Enter 2 mark:75.5\n",
            "Student mark for 2 is [75.5, 75.5]\n",
            "Average mark is 75.5\n"
          ]
        }
      ]
    },
    {
      "cell_type": "code",
      "source": [
        "# show student result\n",
        "print(f\"Student mark for {num_courses} is {course_mark}\")\n",
        "print(f\"Average mark is {avg_student_marks}\")"
      ],
      "metadata": {
        "colab": {
          "base_uri": "https://localhost:8080/"
        },
        "id": "9u_qzo11ORA0",
        "outputId": "83a38a83-ce8f-431b-e238-d8e0009cbff3"
      },
      "execution_count": null,
      "outputs": [
        {
          "output_type": "stream",
          "name": "stdout",
          "text": [
            "Student mark for 2 is [75.5, 75.5]\n",
            "Average mark is [90.5, 75.5]\n"
          ]
        }
      ]
    },
    {
      "cell_type": "code",
      "source": [
        "if avg <=100 and avg >90:\n",
        "  gpa = 4.0\n",
        "elif avg <=90 and avg > 80:\n",
        "  gpa = 3.75\n",
        "elif avg <= 80 and avg > 70:\n",
        "  gpa = 3.50\n",
        "elif avg <= 70 and avg > 60:\n",
        "  gpa = 3.25\n",
        "else:\n",
        "  gpa = 3.00\n",
        "\n",
        "print(f\"Student gpa is {gpa}\")"
      ],
      "metadata": {
        "colab": {
          "base_uri": "https://localhost:8080/"
        },
        "id": "9wKWhJUZDCDu",
        "outputId": "bf704068-40b6-4e70-8b7d-347385a6e9c4"
      },
      "execution_count": null,
      "outputs": [
        {
          "output_type": "stream",
          "name": "stdout",
          "text": [
            "Student gpa is 4.0\n"
          ]
        }
      ]
    },
    {
      "cell_type": "code",
      "source": [
        "print(course_mark)"
      ],
      "metadata": {
        "colab": {
          "base_uri": "https://localhost:8080/"
        },
        "id": "Y8yo4LK6GBEF",
        "outputId": "b5c6d145-9da6-460a-b7e3-90a3049f4613"
      },
      "execution_count": null,
      "outputs": [
        {
          "output_type": "stream",
          "name": "stdout",
          "text": [
            "[95.5, 95.5, 85.5, 85.5]\n"
          ]
        }
      ]
    },
    {
      "cell_type": "code",
      "source": [
        "check_mark = course_mark.copy()\n",
        "for i in range(num_courses):\n",
        "  if check_mark[i] > 90:\n",
        "    print(\"Student achieve more than 90%\")\n",
        "  else:\n",
        "    check_mark[i] = \"Fail\"\n",
        "    print(\"Not achieve\")\n",
        "print(check_mark)"
      ],
      "metadata": {
        "colab": {
          "base_uri": "https://localhost:8080/"
        },
        "id": "N-xVk4Y-I-I0",
        "outputId": "d5bcf7b2-d6b3-4dca-fa13-aa77704deb31"
      },
      "execution_count": null,
      "outputs": [
        {
          "output_type": "stream",
          "name": "stdout",
          "text": [
            "Student achieve more than 90%\n",
            "Student achieve more than 90%\n",
            "Not achieve\n",
            "Not achieve\n",
            "[95.5, 95.5, 'Fail', 'Fail']\n"
          ]
        }
      ]
    },
    {
      "cell_type": "code",
      "source": [],
      "metadata": {
        "id": "Z2Wl24_pJW8E"
      },
      "execution_count": null,
      "outputs": []
    }
  ]
}