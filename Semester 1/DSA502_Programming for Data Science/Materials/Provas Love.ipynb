{
 "cells": [
  {
   "cell_type": "code",
   "execution_count": 1,
   "metadata": {},
   "outputs": [
    {
     "name": "stdout",
     "output_type": "stream",
     "text": [
      "Average of 2 of students is 72.5\n"
     ]
    }
   ],
   "source": [
    "# for input n number of student marks\n",
    "student_mark = []\n",
    "student_num =int(input(\"Enter number of students:\"))\n",
    "for i in range(student_num):\n",
    "  mark=input(f\"Enter student {i+1} mark:\")\n",
    "\n",
    "  student_mark.append(float(mark))\n",
    "\n",
    "# find the average of n number of student marks\n",
    "sum = 0\n",
    "for mark in student_mark:\n",
    "  sum = sum + mark\n",
    "\n",
    "average = sum /student_num\n",
    "\n",
    "print(f\"Average of {student_num} of students is {round(average,2)}\")"
   ]
  }
 ],
 "metadata": {
  "kernelspec": {
   "display_name": "Python 3",
   "language": "python",
   "name": "python3"
  },
  "language_info": {
   "codemirror_mode": {
    "name": "ipython",
    "version": 3
   },
   "file_extension": ".py",
   "mimetype": "text/x-python",
   "name": "python",
   "nbconvert_exporter": "python",
   "pygments_lexer": "ipython3",
   "version": "3.9.13"
  },
  "orig_nbformat": 4
 },
 "nbformat": 4,
 "nbformat_minor": 2
}
